{
  "nbformat": 4,
  "nbformat_minor": 0,
  "metadata": {
    "colab": {
      "provenance": [],
      "include_colab_link": true
    },
    "kernelspec": {
      "name": "python3",
      "display_name": "Python 3"
    },
    "language_info": {
      "name": "python"
    }
  },
  "cells": [
    {
      "cell_type": "markdown",
      "metadata": {
        "id": "view-in-github",
        "colab_type": "text"
      },
      "source": [
        "<a href=\"https://colab.research.google.com/github/AlinaKruzhkova/Medications/blob/main/Tasks/%22%D0%9F%D1%80%D0%B0%D0%BA%D1%82%D0%B8%D1%87%D0%B5%D1%81%D0%BA%D0%B0%D1%8F_%D1%80%D0%B0%D0%B1%D0%BE%D1%82%D0%B0_%E2%84%963_%D0%92%D0%B2%D0%B5%D0%B4%D0%B5%D0%BD%D0%B8%D0%B5_%D0%B2_%D0%9E%D0%9E%D0%9F_ipynb%22.ipynb\" target=\"_parent\"><img src=\"https://colab.research.google.com/assets/colab-badge.svg\" alt=\"Open In Colab\"/></a>"
      ]
    },
    {
      "cell_type": "markdown",
      "source": [
        "# **Практическая работа №3. Введение в ООП**\n",
        "\n",
        "\n"
      ],
      "metadata": {
        "id": "s-EuQCpnWXCn"
      }
    },
    {
      "cell_type": "markdown",
      "source": [
        "## **Задание №1. Создайте класс Sphere для представления сферы в трехмерном пространстве**\n"
      ],
      "metadata": {
        "id": "TQ5SpdjdbD4D"
      }
    },
    {
      "cell_type": "markdown",
      "source": [
        "Обеспечьте следующие методы класса:\n",
        "\n",
        "1. Конструктор, принимающий 4 действительных числа: радиус, и 3 координаты центра шара. Если конструктор вызывается без аргументов, создать объект сферы с единичным радиусом и центром в начале координат. Если конструктор вызывается с аргументом, создать объект сферы с соответствующим радиусом и центром в начале координат.\n",
        "\n",
        "2. Метод get_volume (), который возвращает действительное число — объем шара, ограниченной текущей сферой.\n",
        "\n",
        "3. Метод get_square (), который возвращает действительное число — площадь внешней поверхности сферы.\n",
        "\n",
        "4. Метод get_radius (), который возвращает действительное число — радиус сферы.\n",
        "\n",
        "5. Метод get_center (), который возвращает тьюпл с 3 действительными числами — координатами центра сферы в том же порядке, в каком они задаются в конструкторе.\n",
        "\n",
        "6. Метод set_radius (r), который принимает 1 аргумент — действительное число, и меняет радиус текущей сферы, ничего не возвращая.\n",
        "\n",
        "7. Метод set_center (x, y, z), который принимает 3 аргумента — действительных числа, и меняет координаты центра сферы, ничего не возвращая. Координаты задаются в том же порядке, что и в конструкторе.\n",
        "\n",
        "8. Метод is_point_inside (x, y, z), который принимает 3 аргумента — действительных числа — координаты некоторой точки в пространстве (в том же порядке, что и в конструкторе), и возвращает логическое значение True или False в зависимости от того, находится эта точка внутри сферы."
      ],
      "metadata": {
        "id": "Q5Ow51wfASZH"
      }
    },
    {
      "cell_type": "code",
      "source": [
        "# Тесты\n",
        "\n",
        "s0 = Sphere(0.5) # test sphere creation with radius and default center\n",
        "print(s0.get_center()) # (0.0, 0.0, 0.0)\n",
        "print(s0.get_volume()) # 0.523598775598\n",
        "print(s0.is_point_inside(0 , -1.5, 0)) # False\n",
        "s0.set_radius(1.6)\n",
        "print(s0.is_point_inside(0, -1.5, 0)) # True\n",
        "print(s0.get_radius()) # 1.6"
      ],
      "metadata": {
        "id": "xYx3bR2Lbv42"
      },
      "execution_count": null,
      "outputs": []
    },
    {
      "cell_type": "code",
      "source": [
        "import math\n",
        "\n",
        "class Sphere:\n",
        "  'Объявляем класс Sphere, который будет описывать сферу.'\n",
        "\n",
        "  def __init__(self, radius=1.0, x=0.0, y=0.0, z=0.0): #конструктор класса\n",
        "        self.radius = float(radius) #сохр радиус, как число типа float\n",
        "        self.center = (float(x), float(y), float(z)) #сохр координаты центра в кортеже\n",
        "\n",
        "  def get_volume(self): #метод для вычисления объема сферы\n",
        "        return (4/3) * math.pi * self.radius**3\n",
        "\n",
        "  def get_square(self):  #метод для вычисления площ. поверхности сферы\n",
        "        return 4 * math.pi * self.radius**2\n",
        "\n",
        "  def get_radius(self): #текущий радиус\n",
        "        return self.radius\n",
        "\n",
        "  def get_center(self): #координаты центра сферы\n",
        "        return self.center\n",
        "\n",
        "  def set_radius(self, r): #метод для изменения радиуса\n",
        "        self.radius = float(r)\n",
        "\n",
        "  def set_center(self, x, y, z): #метод для изменения центра\n",
        "        self.center = (float(x), float(y), float(z))\n",
        "\n",
        "  def is_point_inside(self, x, y, z): #проверяет, лежит ли точка внутри сферы\n",
        "        dx = x - self.center[0]\n",
        "        dy = y - self.center[1]\n",
        "        dz = z - self.center[2]\n",
        "        distance_squared = dx*dx + dy*dy + dz*dz #квадрат расстояния от точки до центра\n",
        "        return distance_squared <= self.radius**2  #возвр. True, если точка внутри или на поверхности\n",
        "\n",
        "\n",
        "\n",
        "s0 = Sphere(0.5) # test sphere creation with radius and default center\n",
        "print(s0.get_center()) # (0.0, 0.0, 0.0)\n",
        "print(s0.get_volume()) # 0.523598775598\n",
        "print(s0.is_point_inside(0 , -1.5, 0)) # False\n",
        "s0.set_radius(1.6)\n",
        "print(s0.is_point_inside(0, -1.5, 0)) # True\n",
        "print(s0.get_radius()) # 1.6"
      ],
      "metadata": {
        "id": "d-vd-AYRdBId",
        "colab": {
          "base_uri": "https://localhost:8080/"
        },
        "outputId": "5af68fce-46fe-412a-8009-49d444f4c497"
      },
      "execution_count": null,
      "outputs": [
        {
          "output_type": "stream",
          "name": "stdout",
          "text": [
            "(0.0, 0.0, 0.0)\n",
            "0.5235987755982988\n",
            "False\n",
            "True\n",
            "1.6\n"
          ]
        }
      ]
    },
    {
      "cell_type": "markdown",
      "source": [
        "## **Задание №2. Создайте класс SuperStr, который наследует стандартный класс str и содержит 2 новых метода:**"
      ],
      "metadata": {
        "id": "UuJ9K_zAcaY_"
      }
    },
    {
      "cell_type": "markdown",
      "source": [
        "1. Метод is_repeatance (s), который принимает 1 аргумент s и возвращает True или False в зависимости от того, может ли текущая строку быть получена целым количеством повторов строки s. Вернуть False, если s не является строкой. Считать, что пустая строка не содержит повторов.\n",
        "\n",
        "2. Метод is_palindrom (), который возвращает True или False в зависимости от того, является ли строка [палиндромом](https://ru.wikipedia.org/wiki/Палиндром). Регистрами символов пренебрегать. Пустую строку считать палиндромом."
      ],
      "metadata": {
        "id": "GX99X81VchPW"
      }
    },
    {
      "cell_type": "code",
      "source": [
        "class SuperStr(str):\n",
        "    'Объявляем класс SuperStr, который наследует стандартный класс str.'\n",
        "\n",
        "    def is_repeatance(self, s):\n",
        "        # проверила, является ли s строкой\n",
        "        if not isinstance(s, str):\n",
        "            return False\n",
        "        if s == \"\":\n",
        "            return False\n",
        "        # можно ли получить текущую строку, повторяя строку s целое количество раз\n",
        "        repeated = s * (len(self) // len(s))\n",
        "        return self == repeated and len(self) % len(s) == 0\n",
        "\n",
        "    def is_palindrom(self):\n",
        "        if len(self) == 0:\n",
        "            return True\n",
        "        s_lower = self.lower()\n",
        "        # проверка равенства строки и её обратной версии\n",
        "        return s_lower == s_lower[::-1]\n",
        "\n",
        "\n",
        "s = SuperStr(\"123123123123\")\n",
        "print(s.is_repeatance(\"123\")) # True\n",
        "print(s.is_repeatance(\"123123\")) # True\n",
        "print(s.is_repeatance(\"123123123123\")) # True\n",
        "print(s.is_repeatance(\"12312\")) # False\n",
        "print(s.is_repeatance(123)) # False\n",
        "print(s.is_palindrom()) # False\n",
        "print(s) # 123123123123 (строка)\n",
        "print(int(s)) # 123123123123 (целое число)\n",
        "print(s + \"qwe\") # 123123123123qwe\n",
        "p = SuperStr(\"123_321\")\n",
        "print(p.is_palindrom()) # True"
      ],
      "metadata": {
        "id": "LtIAKDWFdEcr",
        "colab": {
          "base_uri": "https://localhost:8080/"
        },
        "outputId": "b31e4bcd-c8a2-4808-8d45-fc0a77cc0de0"
      },
      "execution_count": null,
      "outputs": [
        {
          "output_type": "stream",
          "name": "stdout",
          "text": [
            "True\n",
            "True\n",
            "True\n",
            "False\n",
            "False\n",
            "False\n",
            "123123123123\n",
            "123123123123\n",
            "123123123123qwe\n",
            "True\n"
          ]
        }
      ]
    },
    {
      "cell_type": "code",
      "source": [
        "# Тесты\n",
        "\n",
        "s = SuperStr(\"123123123123\")\n",
        "print(s.is_repeatance(\"123\")) # True\n",
        "print(s.is_repeatance(\"123123\")) # True\n",
        "print(s.is_repeatance(\"123123123123\")) # True\n",
        "print(s.is_repeatance(\"12312\")) # False\n",
        "print(s.is_repeatance(123)) # False\n",
        "print(s.is_palindrom()) # False\n",
        "print(s) # 123123123123 (строка)\n",
        "print(int(s)) # 123123123123 (целое число)\n",
        "print(s + \"qwe\") # 123123123123qwe\n",
        "p = SuperStr(\"123_321\")\n",
        "print(p.is_palindrom()) # True"
      ],
      "metadata": {
        "id": "oRO3alwicoNp"
      },
      "execution_count": null,
      "outputs": []
    },
    {
      "cell_type": "markdown",
      "source": [
        "## **Задание №3. В коде ниже представлен класс преподавателей и класс студентов (вы можете взять этот код за основу или написать свой).**"
      ],
      "metadata": {
        "id": "m9EGwLY9jZbw"
      }
    },
    {
      "cell_type": "code",
      "source": [
        "class Student:\n",
        "    def __init__(self, name, surname, gender):\n",
        "        self.name = name\n",
        "        self.surname = surname\n",
        "        self.gender = gender\n",
        "        self.finished_courses = []\n",
        "        self.courses_in_progress = []\n",
        "        self.grades = {}\n",
        "\n",
        "    def add_courses(self, course_name):\n",
        "        self.finished_courses.append(course_name)\n",
        "\n",
        "\n",
        "class Mentor:\n",
        "    def __init__(self, name, surname):\n",
        "        self.name = name\n",
        "        self.surname = surname\n",
        "        self.courses_attached = []\n",
        "\n",
        "    def rate_hw(self, student, course, grade):\n",
        "        student.grades[course] = [grade]"
      ],
      "metadata": {
        "id": "PlqK9m7KrT6e"
      },
      "execution_count": 59,
      "outputs": []
    },
    {
      "cell_type": "code",
      "source": [
        "best_student = Student('Ruoy', 'Eman', 'your_gender')\n",
        "cool_mentor = Mentor('Some', 'Buddy')\n",
        "cool_mentor.rate_hw(best_student, 'Python', 10)\n",
        "\n",
        "print(\"Имя студента: \", best_student.name)\n",
        "print(\"Имя преподавателя: \", cool_mentor.name)\n",
        "print(\"Оценки студента по курсам: \", best_student.grades)"
      ],
      "metadata": {
        "colab": {
          "base_uri": "https://localhost:8080/"
        },
        "id": "oNc1-dVaw3ee",
        "outputId": "b4bc6899-e21c-4551-8ef8-209fe8922541"
      },
      "execution_count": null,
      "outputs": [
        {
          "output_type": "stream",
          "name": "stdout",
          "text": [
            "Имя студента:  Ruoy\n",
            "Имя преподавателя:  Some\n",
            "Оценки студента по курсам:  {'Python': [10]}\n"
          ]
        }
      ]
    },
    {
      "cell_type": "markdown",
      "source": [
        "### **3.1. Наследование**"
      ],
      "metadata": {
        "id": "08FkYxULrxE-"
      }
    },
    {
      "cell_type": "markdown",
      "source": [
        "* Класс Mentor должен стать родительским классом для преподавателей. От него нужно реализовать наследование классов Lecturer (лекторы) и Reviewer (эксперты, проверяющие домашние задания).\n",
        "\n",
        "> Имя, фамилю и список закрепленных курсов логично реализовать на уровне родительского класса."
      ],
      "metadata": {
        "id": "YNjsCv5ItOii"
      }
    },
    {
      "cell_type": "code",
      "source": [
        "class Mentor:\n",
        "    def __init__(self, name, surname):\n",
        "        self.name = name\n",
        "        self.surname = surname\n",
        "        self.courses_attached = [] # список закрепленных курсов\n",
        "\n",
        "    def __str__(self):\n",
        "        return f\"Имя: {self.name}\\nФамилия: {self.surname}\"\n",
        "\n",
        "\n",
        "class Lecturer(Mentor):\n",
        "  \"\"\"\n",
        "  Класс Лектор, который наследует от Mentor.\n",
        "  Получает оценки от студентов, хранит оценки за свои лекции.\n",
        "  \"\"\"\n",
        "  pass\n",
        "\n",
        "\n",
        "class Reviewer(Mentor):\n",
        "  \"\"\"\n",
        "  Класс экспертов, который наследует от Mentor.\n",
        "  Проверяет ДЗ, может ставить оценки.\n",
        "  \"\"\"\n",
        "  def rate_hw(self, student, course, grade):\n",
        "        if course in self.courses_attached and course in student.courses_in_progress: # проверяем, что проверяющий прикреплён к этому курсу и студент учится на этом курсе и только тогда можно оценивать\n",
        "            if course in student.grades: # если оценки по этому курсу уже есть, доб. нов.\n",
        "                student.grades[course] += [grade]\n",
        "            else:  # иначе создаем новый список с первой оценкой\n",
        "                student.grades[course] = [grade]\n",
        "        else:\n",
        "            return 'Курс не совпадает!'"
      ],
      "metadata": {
        "id": "1quZPRZKtIoc"
      },
      "execution_count": 60,
      "outputs": []
    },
    {
      "cell_type": "markdown",
      "source": [
        "### **3.2. Атрибуты и взаимодействие классов**"
      ],
      "metadata": {
        "id": "oL8kB-uUtH5K"
      }
    },
    {
      "cell_type": "markdown",
      "source": [
        "* Реализуйте возможность проставления оценок студентам только Reviewer-ам (реализуйте такой метод).\n",
        "\n",
        "* Реализуйте метод выставления оценок лекторам у класса Student (оценки по 10-балльной шкале, хранятся в атрибуте-словаре у Lecturer, в котором ключи – названия курсов, а значения – списки оценок). Лектор при этом должен быть закреплен за тем курсом, на который записан студент (реализовать проверку)."
      ],
      "metadata": {
        "id": "ddcuJFCksWsY"
      }
    },
    {
      "cell_type": "code",
      "source": [
        "class Student:\n",
        "    def __init__(self, name, surname, gender):\n",
        "        self.name = name\n",
        "        self.surname = surname\n",
        "        self.gender = gender\n",
        "        self.finished_courses = []\n",
        "        self.courses_in_progress = []\n",
        "        self.grades = {}  # оценки студента по курсам\n",
        "\n",
        "    def add_courses(self, course_name):\n",
        "        self.finished_courses.append(course_name)\n",
        "\n",
        "    def rate_lecturer(self, lecturer, course, grade):\n",
        "        \"\"\"\n",
        "        Функция проверяет, что лектор точно закреплён за этим курсом и студент на нём учится.\n",
        "        \"\"\"\n",
        "        if course in self.courses_in_progress and course in lecturer.courses_attached and 1 <= grade <= 10: # Добавляем оценку в словарь lecture_grades лектора\n",
        "            if course in lecturer.lecture_grades:\n",
        "                lecturer.lecture_grades[course] += [grade]\n",
        "            else:\n",
        "                lecturer.lecture_grades[course] = [grade]\n",
        "        else:\n",
        "            return \"Курс не совпадает у студента и лектора!\"\n",
        "\n",
        "\n",
        "\n",
        "class Lecturer(Mentor):\n",
        "    def __init__(self, name, surname):\n",
        "        super().__init__(name, surname)\n",
        "        self.lecture_grades = {}  # оценки, полученные лектором\n",
        "\n",
        "\n",
        "class Reviewer(Mentor):\n",
        "    def rate_hw(self, student, course, grade):\n",
        "        if course in self.courses_attached and course in student.courses_in_progress: # проверяем, что проверяющий прикреплён к этому курсу и студент учится на этом курсе и только тогда можно оценивать\n",
        "            if course in student.grades: # если оценки по этому курсу уже есть, доб. нов.\n",
        "                student.grades[course] += [grade]\n",
        "            else:  # иначе создаем новый список с первой оценкой\n",
        "                student.grades[course] = [grade]\n",
        "        else:\n",
        "            return 'Курс не совпадает!'"
      ],
      "metadata": {
        "id": "U30yyvuirv6H"
      },
      "execution_count": 61,
      "outputs": []
    },
    {
      "cell_type": "markdown",
      "source": [
        "### **3.3. Полиморфизм и магические методы**"
      ],
      "metadata": {
        "id": "i6PrwEBSu39u"
      }
    },
    {
      "cell_type": "markdown",
      "source": [
        "Перегрузите магический метод \\_\\_str__ у всех классов.\n",
        "У проверяющих он должен выводить информацию в следующем виде:\n",
        "\n",
        "\n",
        "\n",
        "```\n",
        "print(some_reviewer)\n",
        "Имя: Some\n",
        "Фамилия: Buddy\n",
        "```\n",
        "\n",
        "У лекторов:\n",
        "\n",
        "\n",
        "\n",
        "```\n",
        "print(some_lecturer)\n",
        "Имя: Some\n",
        "Фамилия: Buddy\n",
        "Средняя оценка за лекции: 9.9\n",
        "```\n",
        "\n",
        "А у студентов так:\n",
        "\n",
        "\n",
        "\n",
        "```\n",
        "print(some_student)\n",
        "Имя: Ruoy\n",
        "Фамилия: Eman\n",
        "Средняя оценка за домашние задания: 9.9\n",
        "Курсы в процессе изучения: Python, Git\n",
        "Завершенные курсы: Введение в программирование\n",
        "```\n",
        "\n",
        "\n",
        "\n"
      ],
      "metadata": {
        "id": "GvmtjlnmvF8b"
      }
    },
    {
      "cell_type": "code",
      "source": [
        "class Student:\n",
        "    def __init__(self, name, surname, gender):\n",
        "        self.name = name\n",
        "        self.surname = surname\n",
        "        self.gender = gender\n",
        "        self.finished_courses = []\n",
        "        self.courses_in_progress = []\n",
        "        self.grades = {}\n",
        "\n",
        "    def average_grade(self): # считает среднее среди всех оценок во всех курсах\n",
        "        all_grades = []\n",
        "        for grades in self.grades.values():\n",
        "            all_grades.extend(grades) # добавляет все элементы из списка grades в конец списка all_grades\n",
        "        if all_grades:\n",
        "            return round(sum(all_grades) / len(all_grades), 1)\n",
        "        else:\n",
        "            return 0\n",
        "\n",
        "    def __str__(self):\n",
        "        av_gr = self.average_grade()\n",
        "        courses_in_progress = (', '.join(self.courses_in_progress) or \"нет\")\n",
        "        finished_courses = (', '.join(self.finished_courses) or \"нет\")\n",
        "        return (f\"Имя: {self.name}\\n\"\n",
        "                f\"Фамилия: {self.surname}\\n\"\n",
        "                f\"Средняя оценка за домашние задания: {av_gr}\\n\"\n",
        "                f\"Курсы в процессе изучения: {courses_in_progress}\\n\"\n",
        "                f\"Завершенные курсы: {finished_courses}\")\n",
        "\n",
        "\n",
        "class Lecturer(Mentor):\n",
        "    def __init__(self, name, surname):\n",
        "        super().__init__(name, surname)\n",
        "        self.lecture_grades = {}  # словарь для хранения оценок за лекциии\n",
        "\n",
        "    def average_lecture_grade(self):\n",
        "        all_grades = []\n",
        "        for grades in self.lecture_grades.values():\n",
        "            all_grades.extend(grades)\n",
        "        return round(sum(all_grades) / len(all_grades), 1) if all_grades else 0\n",
        "\n",
        "    def __str__(self):\n",
        "        av_gr = self.average_lecture_grade()\n",
        "        return (f\"{super().__str__()}\\n\"\n",
        "                f\"Средняя оценка за все лекции: {av_gr}\")\n",
        "\n",
        "class Reviewer(Mentor):\n",
        "    def __str__(self):\n",
        "        return f\"Имя: {self.name}\\nФамилия: {self.surname}\""
      ],
      "metadata": {
        "id": "gCJAL_EmwU0b"
      },
      "execution_count": 62,
      "outputs": []
    },
    {
      "cell_type": "markdown",
      "source": [
        "**Реализуйте перегрузку других магических методов на Ваш выбор (не менее трёх), руководствуясь по смыслу контекстом представленных классов (студенты, преподаватели, оценки и т.д.)**"
      ],
      "metadata": {
        "id": "1DNE4TE3vfYI"
      }
    },
    {
      "cell_type": "code",
      "source": [
        "# методы для класса Student\n",
        "\n",
        "def __lt__(self, other):  # сравнение студентов по средней оценке\n",
        "    if not isinstance(other, Student):\n",
        "        return NotImplemented # является ли объект other экземпляром классa или его наследником\n",
        "    return self.average_grade() < other.average_grade()\n",
        "\"\"\" Результат True или False в зависимости от среднего балла студентов (student1 < student2) \"\"\"\n",
        "\n",
        "def __gt__(self, other):  # сравнение студентов по средней оценке\n",
        "    if not isinstance(other, Student):\n",
        "        return NotImplemented\n",
        "    return self.average_grade() > other.average_grade()\n",
        "\"\"\" Результат True или False в зависимости от среднего балла студентов (student1 > student2) \"\"\"\n",
        "\n",
        "def __add__(self, other): # сложение средних оценок двух студентов\n",
        "    if not isinstance(other, Student):\n",
        "        return NotImplemented\n",
        "    return self.average_grade() + other.average_grade()\n",
        "\n",
        "\n",
        "# Присваиваем все методы классу Student\n",
        "Student.__lt__ = __lt__\n",
        "Student.__gt__ = __gt__\n",
        "Student.__add__ = __add__\n",
        "\n",
        "\n",
        "\n",
        "# методы для класса Lecturer\n",
        "\n",
        "def __len__(self): # количество курсов, за которые лектор получает оценки\n",
        "    return len(self.lecture_grades)\n",
        "\n",
        "def __add__(self, other): # сложение средних оценок двух лекторов\n",
        "    if not isinstance(other, Lecturer):\n",
        "        return NotImplemented\n",
        "    return self.average_lecture_grade() + other.average_lecture_grade()\n",
        "\n",
        "# Присваиваем все методы классу Lecturer\n",
        "Lecturer.__len__ = __len__\n",
        "Lecturer.__add__ = __add__"
      ],
      "metadata": {
        "id": "WNCf9PPMu4Gv"
      },
      "execution_count": 63,
      "outputs": []
    },
    {
      "cell_type": "markdown",
      "source": [
        "### **3.4. Тестирование**\n",
        "\n",
        "Создайте по 2 экземпляра каждого класса, вызовите все созданные методы, а также реализуйте две функции:\n",
        "\n",
        "* для подсчета средней оценки за домашние задания по всем студентам в рамках конкретного курса (в качестве аргументов принимаем список студентов и название курса);\n",
        "* для подсчета средней оценки за лекции всех лекторов в рамках курса (в качестве аргумента принимаем список лекторов и название курса)."
      ],
      "metadata": {
        "id": "X8xvLNT6u4Nn"
      }
    },
    {
      "cell_type": "code",
      "source": [
        "# Создание 2 студентов\n",
        "student_1 = Student('Ruoy', 'Eman', 'male')\n",
        "student_1.courses_in_progress += ['Python', 'Java']\n",
        "student_1.grades['Python'] = [8, 9, 8]\n",
        "student_1.grades['Java'] = [9, 9, 10]\n",
        "\n",
        "student_2 = Student('Any', 'Student', 'female')\n",
        "student_2.courses_in_progress += ['Python']\n",
        "student_2.grades['Python'] = [5, 4, 6]\n",
        "\n",
        "# Создание 2 лекторов\n",
        "lecturer_1 = Lecturer('Some', 'Buddy')\n",
        "lecturer_1.courses_attached += ['Python']\n",
        "lecturer_1.lecture_grades['Python'] = [9, 10, 10]\n",
        "\n",
        "lecturer_2 = Lecturer('Second', 'Lecturer')\n",
        "lecturer_2.courses_attached += ['Python', 'Java']\n",
        "lecturer_2.lecture_grades['Python'] = [7, 9, 8]\n",
        "lecturer_2.lecture_grades['Java'] = [10, 10]\n",
        "\n",
        "# Создание 2 проверяющих\n",
        "reviewer_1 = Reviewer('Another', 'One')\n",
        "reviewer_1.courses_attached += ['Python', 'Java']\n",
        "\n",
        "reviewer_2 = Reviewer('Extra', 'Reviewer')\n",
        "reviewer_2.courses_attached += ['Python']\n",
        "\n",
        "# Выводы и проверки\n",
        "print(\"Проверяющие:\")\n",
        "print(reviewer_1)\n",
        "print(reviewer_2)\n",
        "print()\n",
        "\n",
        "print(\"Лекторы:\")\n",
        "print(lecturer_1)\n",
        "print(lecturer_2)\n",
        "print()\n",
        "\n",
        "print(\"Студенты:\")\n",
        "print(student_1)\n",
        "print()\n",
        "print(student_2)\n",
        "print()\n",
        "\n",
        "# Сравнение студентов (по среднему баллу)\n",
        "print(\"student_1 > student_2:\", student_1 > student_2)  # True\n",
        "print(\"student_1 < student_2:\", student_1 < student_2)  # False\n",
        "print(\"student_1 + student_2:\", student_1 + student_2)  # сумма средних оценок\n",
        "\n",
        "# Работа с лекторами\n",
        "print(f\"Количество курсов у lecturer_1: {len(lecturer_1)}\")  # Кол-во курсов с оценками\n",
        "print(f\"Количество курсов у lecturer_2: {len(lecturer_2)}\")\n",
        "sum_av_gr = lecturer_1 + lecturer_2\n",
        "expected_sum = lecturer_1.average_lecture_grade() + lecturer_2.average_lecture_grade()\n",
        "print(f\"Сумма средних оценок лекторов: {sum_av_gr}\")\n",
        "print(f\"Ожидаемое значение: {expected_sum}\")\n",
        "\n",
        "# Функции подсчёта средней оценки\n",
        "students = [student_1, student_2]\n",
        "lecturers = [lecturer_1, lecturer_2]\n",
        "\n",
        "def average_grade(students, course):\n",
        "    total = []\n",
        "    for student in students:\n",
        "        if course in student.grades:\n",
        "            total.extend(student.grades[course])\n",
        "    if total:\n",
        "        return round(sum(total) / len(total), 1)\n",
        "    return 0\n",
        "\n",
        "\n",
        "def average_lecturer_grade(lecturers, course):\n",
        "    total = []\n",
        "    for lecturer in lecturers:\n",
        "        if course in lecturer.lecture_grades:\n",
        "            total.extend(lecturer.lecture_grades[course])\n",
        "    if total:\n",
        "        return round(sum(total) / len(total), 1)\n",
        "    return 0\n",
        "\n",
        "\n",
        "print()\n",
        "print(\"Средняя оценка студентов по курсу Python:\", average_grade(students, 'Python'))\n",
        "print(\"Средняя оценка студентов по курсу Java:\", average_grade(students, 'Java'))\n",
        "\n",
        "print(\"Средняя оценка лекторов по курсу Python:\", average_lecturer_grade(lecturers, 'Python'))\n",
        "print(\"Средняя оценка лекторов по курсу Java:\", average_lecturer_grade(lecturers, 'Java'))"
      ],
      "metadata": {
        "id": "uh8n08fdu4V_",
        "colab": {
          "base_uri": "https://localhost:8080/"
        },
        "outputId": "59ede519-ba9b-4b27-da38-bee7f6522139"
      },
      "execution_count": 67,
      "outputs": [
        {
          "output_type": "stream",
          "name": "stdout",
          "text": [
            "Проверяющие:\n",
            "Имя: Another\n",
            "Фамилия: One\n",
            "Имя: Extra\n",
            "Фамилия: Reviewer\n",
            "\n",
            "Лекторы:\n",
            "Имя: Some\n",
            "Фамилия: Buddy\n",
            "Средняя оценка за все лекции: 9.7\n",
            "Имя: Second\n",
            "Фамилия: Lecturer\n",
            "Средняя оценка за все лекции: 8.8\n",
            "\n",
            "Студенты:\n",
            "Имя: Ruoy\n",
            "Фамилия: Eman\n",
            "Средняя оценка за домашние задания: 8.8\n",
            "Курсы в процессе изучения: Python, Java\n",
            "Завершенные курсы: нет\n",
            "\n",
            "Имя: Any\n",
            "Фамилия: Student\n",
            "Средняя оценка за домашние задания: 5.0\n",
            "Курсы в процессе изучения: Python\n",
            "Завершенные курсы: нет\n",
            "\n",
            "student_1 > student_2: True\n",
            "student_1 < student_2: False\n",
            "student_1 + student_2: 13.8\n",
            "Количество курсов у lecturer_1: 1\n",
            "Количество курсов у lecturer_2: 2\n",
            "Сумма средних оценок лекторов: 18.5\n",
            "Ожидаемое значение: 18.5\n",
            "\n",
            "Средняя оценка студентов по курсу Python: 6.7\n",
            "Средняя оценка студентов по курсу Java: 9.3\n",
            "Средняя оценка лекторов по курсу Python: 8.8\n",
            "Средняя оценка лекторов по курсу Java: 10.0\n"
          ]
        }
      ]
    },
    {
      "cell_type": "markdown",
      "source": [
        "## **Задание №4. Перегрузка операторов с помощью магических методов**\n"
      ],
      "metadata": {
        "id": "ehfo80anwJUM"
      }
    },
    {
      "cell_type": "markdown",
      "source": [
        "### **Цель задания:**\n",
        "\n"
      ],
      "metadata": {
        "id": "i_KsKg4awZOJ"
      }
    },
    {
      "cell_type": "markdown",
      "source": [
        "Разработать класс `Fraction` для работы с рациональными числами (дробями), реализовав перегрузку стандартных операторов через переопределение соответствующих магических методов. Ваша задача — обеспечить класс `Fraction` функциональностью, демонстрируемой в приведенном примере кода."
      ],
      "metadata": {
        "id": "JvIIB641watq"
      }
    },
    {
      "cell_type": "markdown",
      "source": [
        "### **Описание задания:**\n",
        "\n"
      ],
      "metadata": {
        "id": "BZ9kMLrYwcW_"
      }
    },
    {
      "cell_type": "markdown",
      "source": [
        "Создайте класс `Fraction`, который представляет собой обыкновенную дробь с числителем и знаменателем. Перегрузите основные арифметические операторы для выполнения операций над дробями, а также операторы сравнения. Обеспечьте возможность преобразования дроби в число с плавающей точкой и обратную операцию. Реализуйте обработку исключений при некорректных данных. Предоставьте понятное строковое и официальное представление дроби."
      ],
      "metadata": {
        "id": "6Qt56A-Bwe87"
      }
    },
    {
      "cell_type": "markdown",
      "source": [
        "**Требования к заданию:**\n"
      ],
      "metadata": {
        "id": "1lv3NnB_whqP"
      }
    },
    {
      "cell_type": "markdown",
      "source": [
        "\n",
        "1. **Класс `Fraction` должен:**\n",
        "\n",
        "   - Инициализироваться двумя целыми числами: числителем и знаменателем.\n",
        "   - Обрабатывать ситуацию когда знаменатель равен нулю, а именно выводить сообщение `\"Знаменатель не может быть нулем\"`.\n",
        "   - Упрощать дроби до несократимых при создании и после каждой арифметической операции.\n",
        "\n",
        "2. **Перегрузить следующие операторы путем переопределения магических методов:**\n",
        "\n",
        "   - **Сложение `+`** (`__add__`): сложение двух дробей, возвращает новую дробь.\n",
        "   - **Вычитание `-`** (`__sub__`): вычитание одной дроби из другой, возвращает новую дробь.\n",
        "   - **Умножение `*`** (`__mul__`): умножение двух дробей, возвращает новую дробь.\n",
        "   - **Деление `/`** (`__truediv__`): деление одной дроби на другую, возвращает новую дробь.\n",
        "   - **Равенство `==`** (`__eq__`): проверка равенства двух дробей.\n",
        "   - **Сравнения `>`, `<`, `>=`, `<=`**: сравнение дробей по их значению, реализовать методы `__lt__`, `__le__`, `__gt__`, `__ge__`.\n",
        "\n",
        "3. **Реализовать преобразование типов:**\n",
        "\n",
        "   - **Метод `__float__`**: преобразование дроби в число с плавающей точкой.\n",
        "\n",
        "4. **Дополнительные методы класса:**\n",
        "\n",
        "   - **`reciprocal()`**: возвращает новую дробь, обратную данной (числитель и знаменатель меняются местами).\n",
        "   - **Строковое представление** (`__str__`): возвращает строку вида `\"числитель/знаменатель\"`. Если знаменатель равен 1, возвращает только числитель в виде строки.\n",
        "   - **Официальное представление** (`__repr__`): возвращает строку вида `\"Fraction(числитель, знаменатель)\"`.\n",
        "\n",
        "5. **Обработка исключений:**\n",
        "\n",
        "   - При попытке создать дробь с нулевым знаменателем выводить в консоль сообщение `ValueError`.\n",
        "   - При попытке деления на нулевую дробь, выводить в консоль сообщение `ZeroDivisionError`.\n",
        "\n",
        "6. **Тестирование:**\n",
        "\n",
        "   - Написать код, демонстрирующий работу всех реализованных методов и операторов, используя примеры, приведенные ниже.\n",
        "   - Обеспечить корректную обработку исключений и вывод соответствующих сообщений.\n",
        "\n",
        "\n",
        "\n"
      ],
      "metadata": {
        "id": "4tJX8suPv0TY"
      }
    },
    {
      "cell_type": "code",
      "source": [
        "import math\n",
        "\n",
        "class Fraction:\n",
        "    def __init__(self, numerator, denominator): # принимает числитель и знаменатель\n",
        "        self.numerator = numerator\n",
        "        self.denominator = denominator\n",
        "\n",
        "        if denominator == 0: # проверка деления на 0\n",
        "            raise ValueError(\"На ноль делить нельзя!\")\n",
        "\n",
        "        common = math.gcd(self.numerator, self.denominator)\n",
        "        self.numerator = numerator // common\n",
        "        self.denominator = denominator // common\n",
        "\n",
        "    def __str__(self):\n",
        "        if self.denominator == 1:\n",
        "            return f\"{self.numerator}\"\n",
        "        return f\"{self.numerator}/{self.denominator}\"\n",
        "\n",
        "    def __add__(self, other): # перегрузка оператора сложения\n",
        "        new_numerator = (self.numerator * other.denominator +\n",
        "                         other.numerator * self.denominator)\n",
        "        new_denominator = self.denominator * other.denominator\n",
        "        return Fraction(new_numerator, new_denominator)\n",
        "\n",
        "    def __sub__(self, other): # перегрузка оператора вычитания\n",
        "        new_numerator = (self.numerator*other.denominator -\n",
        "                         other.numerator * self.denominator)\n",
        "        new_denominator = self.denominator * other.denominator\n",
        "        return Fraction(new_numerator, new_denominator)\n",
        "\n",
        "    def __mul__(self, other): # перегрузка оператора умножения\n",
        "        new_numerator = self.numerator * other.numerator\n",
        "        new_denominator = self.denominator * other.denominator\n",
        "        return Fraction(new_numerator, new_denominator)\n",
        "\n",
        "    def __truediv__(self, other): # перегрузка оператора деления\n",
        "        new_numerator = self.numerator * other.denominator\n",
        "        new_denominator = self.denominator * other.numerator\n",
        "        return Fraction(new_numerator, new_denominator)\n",
        "\n",
        "    def __eq__(self, other):\n",
        "        if isinstance(other, Fraction): # сравнение двух дробей на равенство\n",
        "            return (self.numerator == other.numerator and\n",
        "                    self.denominator == other.denominator)\n",
        "        return False\n",
        "\n",
        "    def __lt__(self, other):\n",
        "        if isinstance(other, Fraction):\n",
        "            return (self.numerator * other.denominator <\n",
        "                    other.numerator * self.denominator)\n",
        "\n",
        "    def __le__(self, other):\n",
        "        if isinstance(other, Fraction):\n",
        "            return (self.numerator * other.denominator <=\n",
        "                    other.numerator * self.denominator)\n",
        "\n",
        "    def __gt__(self, other):\n",
        "        if isinstance(other, Fraction):\n",
        "            return (self.numerator * other.denominator >\n",
        "                    other.numerator * self.denominator)\n",
        "\n",
        "    def __ge__(self, other):\n",
        "        if isinstance(other, Fraction):\n",
        "            return (self.numerator * other.denominator >=\n",
        "                    other.numerator * self.denominator)\n",
        "\n",
        "    def __float__(self): # перевод дроби в число с плавающей точкой\n",
        "        return self.numerator / self.denominator\n",
        "\n",
        "    def reciprocal(self): # вычисление обратной дроби\n",
        "        new_num = self.denominator\n",
        "        new_den = self.numerator\n",
        "        return Fraction(new_num, new_den)\n",
        "\n",
        "    def __repr__(self):\n",
        "        return f\"Fraction({self.numerator}, {self.denominator})\"\n",
        "\n",
        "    def from_float(value):\n",
        "        value = str(value)\n",
        "        integer_part, decimal_part = value.split('.')\n",
        "        numerator = int(integer_part + decimal_part)\n",
        "        denominator = 10 ** len(decimal_part)\n",
        "        return Fraction(numerator, denominator)"
      ],
      "metadata": {
        "id": "58JlCtFkxpmU"
      },
      "execution_count": 70,
      "outputs": []
    },
    {
      "cell_type": "markdown",
      "source": [
        "**Тесты для класса `Fraction`:**\n"
      ],
      "metadata": {
        "id": "N5tZxFvIxdIy"
      }
    },
    {
      "cell_type": "code",
      "source": [
        "# Создание дробей\n",
        "f1 = Fraction(3, 4)\n",
        "f2 = Fraction(5, 6)\n",
        "\n",
        "# Сложение дробей\n",
        "f3 = f1 + f2\n",
        "print(f3)  # Ожидаемый вывод: 19/12\n",
        "\n",
        "# Вычитание дробей\n",
        "f4 = f1 - f2\n",
        "print(f4)  # Ожидаемый вывод: -1/12\n",
        "\n",
        "# Умножение дробей\n",
        "f5 = f1 * f2\n",
        "print(f5)  # Ожидаемый вывод: 5/8\n",
        "\n",
        "# Деление дробей\n",
        "f6 = f1 / f2\n",
        "print(f6)  # Ожидаемый вывод: 9/10\n",
        "\n",
        "# Проверка равенства\n",
        "print(f1 == Fraction(6, 8))   # Ожидаемый вывод: True\n",
        "\n",
        "# Сравнение дробей\n",
        "print(f1 > f2)    # Ожидаемый вывод: False\n",
        "print(f1 < f2)    # Ожидаемый вывод: True\n",
        "\n",
        "# Преобразование к float\n",
        "print(float(f1))  # Ожидаемый вывод: 0.75\n",
        "\n",
        "# Обратная дробь\n",
        "f7 = f1.reciprocal()\n",
        "print(f7)         # Ожидаемый вывод: 4/3\n",
        "\n",
        "# Создание дроби из float\n",
        "f8 = Fraction.from_float(0.75)\n",
        "print(f8)         # Ожидаемый вывод: 3/4\n",
        "\n",
        "# Проверка обработки исключений\n",
        "try:\n",
        "    f_invalid = Fraction(5, 0)\n",
        "except ValueError as e:\n",
        "    print(e)  # Ожидаемый вывод: Знаменатель не может быть нулем\n",
        "\n",
        "# Строковое и официальное представление\n",
        "print(str(f1))    # Ожидаемый вывод: 3/4\n",
        "print(repr(f1))   # Ожидаемый вывод: Fraction(3, 4)"
      ],
      "metadata": {
        "id": "U1UtgDM0xlqJ",
        "colab": {
          "base_uri": "https://localhost:8080/"
        },
        "outputId": "352e1254-a7fd-4ca8-de66-3fce2ec9ef5e"
      },
      "execution_count": 71,
      "outputs": [
        {
          "output_type": "stream",
          "name": "stdout",
          "text": [
            "19/12\n",
            "-1/12\n",
            "5/8\n",
            "9/10\n",
            "True\n",
            "False\n",
            "True\n",
            "0.75\n",
            "4/3\n",
            "3/4\n",
            "На ноль делить нельзя!\n",
            "3/4\n",
            "Fraction(3, 4)\n"
          ]
        }
      ]
    }
  ]
}